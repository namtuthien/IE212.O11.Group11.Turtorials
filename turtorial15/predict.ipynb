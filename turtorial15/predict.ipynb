{
 "cells": [
  {
   "cell_type": "code",
   "execution_count": null,
   "metadata": {},
   "outputs": [],
   "source": [
    "import findspark\n",
    "findspark.init()\n",
    "\n",
    "import pyspark\n",
    "from pyspark.sql import SparkSession\n",
    "\n",
    "scala_version = '2.12'\n",
    "spark_version = '3.5.0'\n",
    "packages = [\n",
    "    f'org.apache.spark:spark-sql-kafka-0-10_{scala_version}:{spark_version}',\n",
    "    'org.apache.kafka:kafka-clients:3.6.0'\n",
    "]\n",
    "spark = SparkSession.builder.master('local').appName('Bigmart Sales Prediction').config('spark.jars.packages', ','.join(packages)).getOrCreate()\n",
    "spark"
   ]
  },
  {
   "cell_type": "code",
   "execution_count": 10,
   "metadata": {},
   "outputs": [],
   "source": [
    "from kafka import KafkaConsumer\n",
    "\n",
    "kafka_topic_name = 'turtorial15'\n",
    "kafka_bootstrap_servers = 'localhost:9092'\n",
    "\n",
    "consumer = KafkaConsumer(kafka_topic_name, bootstrap_servers=kafka_bootstrap_servers)"
   ]
  },
  {
   "cell_type": "code",
   "execution_count": null,
   "metadata": {},
   "outputs": [],
   "source": [
    "from datetime import datetime\n",
    "from pyspark.sql import Row\n",
    "from pyspark.sql.types import StructType, StructField, StringType, DoubleType, IntegerType, TimestampType\n",
    "from pyspark.sql.functions import col, from_utc_timestamp\n",
    "import json\n",
    "\n",
    "# Define the schema based on the sample record\n",
    "schema = StructType([\n",
    "    StructField(\"Item_Identifier\", StringType(), True),\n",
    "    StructField(\"Item_Weight\", DoubleType(), True),\n",
    "    StructField(\"Item_Fat_Content\", StringType(), True),\n",
    "    StructField(\"Item_Visibility\", DoubleType(), True),\n",
    "    StructField(\"Item_Type\", StringType(), True),\n",
    "    StructField(\"Item_MRP\", DoubleType(), True),\n",
    "    StructField(\"Outlet_Identifier\", StringType(), True),\n",
    "    StructField(\"Outlet_Establishment_Year\", IntegerType(), True),\n",
    "    StructField(\"Outlet_Size\", StringType(), True),\n",
    "    StructField(\"Outlet_Location_Type\", StringType(), True),\n",
    "    StructField(\"Outlet_Type\", StringType(), True),\n",
    "    StructField(\"time_interval\", StringType(), True)  # Keep it as StringType for now\n",
    "])\n",
    "\n",
    "for message in consumer:\n",
    "    # Assuming your Kafka message is in the variable 'message'\n",
    "    message_value = message.value.decode('utf-8')  # Decode bytes to string\n",
    "    data_dict = json.loads(message_value)  # Convert JSON string to dictionary\n",
    "\n",
    "    # Convert the 'time_interval' field to a timestamp\n",
    "    data_dict[\"time_interval\"] = datetime.strptime(data_dict[\"time_interval\"], \"%Y-%m-%d %H:%M:%S\")\n",
    "\n",
    "    # Create a Row object from the dictionary\n",
    "    row = Row(**data_dict)\n",
    "\n",
    "    # Create a DataFrame from the Row with the specified schema\n",
    "    df = spark.createDataFrame([row], schema=schema)\n",
    "\n",
    "    # Print the resulting DataFrame\n",
    "    print(type(df))\n",
    "    df.show()\n"
   ]
  }
 ],
 "metadata": {
  "kernelspec": {
   "display_name": "Python 3",
   "language": "python",
   "name": "python3"
  },
  "language_info": {
   "codemirror_mode": {
    "name": "ipython",
    "version": 3
   },
   "file_extension": ".py",
   "mimetype": "text/x-python",
   "name": "python",
   "nbconvert_exporter": "python",
   "pygments_lexer": "ipython3",
   "version": "3.10.12"
  }
 },
 "nbformat": 4,
 "nbformat_minor": 2
}
