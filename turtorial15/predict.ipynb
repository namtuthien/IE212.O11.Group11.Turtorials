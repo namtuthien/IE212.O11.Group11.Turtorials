{
 "cells": [
  {
   "cell_type": "code",
   "execution_count": 1,
   "metadata": {},
   "outputs": [
    {
     "name": "stderr",
     "output_type": "stream",
     "text": [
      "your 131072x1 screen size is bogus. expect trouble\n",
      "24/01/01 22:16:45 WARN Utils: Your hostname, NamThien resolves to a loopback address: 127.0.1.1; using 172.21.225.129 instead (on interface eth0)\n",
      "24/01/01 22:16:45 WARN Utils: Set SPARK_LOCAL_IP if you need to bind to another address\n"
     ]
    },
    {
     "name": "stdout",
     "output_type": "stream",
     "text": [
      ":: loading settings :: url = jar:file:/home/leducmanh/.local/lib/python3.10/site-packages/pyspark/jars/ivy-2.5.1.jar!/org/apache/ivy/core/settings/ivysettings.xml\n"
     ]
    },
    {
     "name": "stderr",
     "output_type": "stream",
     "text": [
      "Ivy Default Cache set to: /home/leducmanh/.ivy2/cache\n",
      "The jars for the packages stored in: /home/leducmanh/.ivy2/jars\n",
      "org.apache.spark#spark-sql-kafka-0-10_2.12 added as a dependency\n",
      "org.apache.kafka#kafka-clients added as a dependency\n",
      ":: resolving dependencies :: org.apache.spark#spark-submit-parent-a1e592d2-5a31-4c27-8afb-c14ca5c89c80;1.0\n",
      "\tconfs: [default]\n",
      "\tfound org.apache.spark#spark-sql-kafka-0-10_2.12;3.5.0 in central\n",
      "\tfound org.apache.spark#spark-token-provider-kafka-0-10_2.12;3.5.0 in central\n",
      "\tfound org.apache.hadoop#hadoop-client-runtime;3.3.4 in central\n",
      "\tfound org.apache.hadoop#hadoop-client-api;3.3.4 in central\n",
      "\tfound org.xerial.snappy#snappy-java;1.1.10.3 in central\n",
      "\tfound org.slf4j#slf4j-api;2.0.7 in central\n",
      "\tfound commons-logging#commons-logging;1.1.3 in central\n",
      "\tfound com.google.code.findbugs#jsr305;3.0.0 in central\n",
      "\tfound org.apache.commons#commons-pool2;2.11.1 in central\n",
      "\tfound org.apache.kafka#kafka-clients;3.6.0 in central\n",
      "\tfound com.github.luben#zstd-jni;1.5.5-1 in central\n",
      "\tfound org.lz4#lz4-java;1.8.0 in central\n",
      "\tfound org.xerial.snappy#snappy-java;1.1.10.4 in central\n",
      ":: resolution report :: resolve 1431ms :: artifacts dl 50ms\n",
      "\t:: modules in use:\n",
      "\tcom.github.luben#zstd-jni;1.5.5-1 from central in [default]\n",
      "\tcom.google.code.findbugs#jsr305;3.0.0 from central in [default]\n",
      "\tcommons-logging#commons-logging;1.1.3 from central in [default]\n",
      "\torg.apache.commons#commons-pool2;2.11.1 from central in [default]\n",
      "\torg.apache.hadoop#hadoop-client-api;3.3.4 from central in [default]\n",
      "\torg.apache.hadoop#hadoop-client-runtime;3.3.4 from central in [default]\n",
      "\torg.apache.kafka#kafka-clients;3.6.0 from central in [default]\n",
      "\torg.apache.spark#spark-sql-kafka-0-10_2.12;3.5.0 from central in [default]\n",
      "\torg.apache.spark#spark-token-provider-kafka-0-10_2.12;3.5.0 from central in [default]\n",
      "\torg.lz4#lz4-java;1.8.0 from central in [default]\n",
      "\torg.slf4j#slf4j-api;2.0.7 from central in [default]\n",
      "\torg.xerial.snappy#snappy-java;1.1.10.4 from central in [default]\n",
      "\t:: evicted modules:\n",
      "\torg.apache.kafka#kafka-clients;3.4.1 by [org.apache.kafka#kafka-clients;3.6.0] in [default]\n",
      "\torg.xerial.snappy#snappy-java;1.1.10.3 by [org.xerial.snappy#snappy-java;1.1.10.4] in [default]\n",
      "\torg.slf4j#slf4j-api;1.7.36 by [org.slf4j#slf4j-api;2.0.7] in [default]\n",
      "\t---------------------------------------------------------------------\n",
      "\t|                  |            modules            ||   artifacts   |\n",
      "\t|       conf       | number| search|dwnlded|evicted|| number|dwnlded|\n",
      "\t---------------------------------------------------------------------\n",
      "\t|      default     |   15  |   0   |   0   |   3   ||   12  |   0   |\n",
      "\t---------------------------------------------------------------------\n",
      ":: retrieving :: org.apache.spark#spark-submit-parent-a1e592d2-5a31-4c27-8afb-c14ca5c89c80\n",
      "\tconfs: [default]\n",
      "\t0 artifacts copied, 12 already retrieved (0kB/21ms)\n",
      "24/01/01 22:16:47 WARN NativeCodeLoader: Unable to load native-hadoop library for your platform... using builtin-java classes where applicable\n",
      "Setting default log level to \"WARN\".\n",
      "To adjust logging level use sc.setLogLevel(newLevel). For SparkR, use setLogLevel(newLevel).\n"
     ]
    },
    {
     "data": {
      "text/html": [
       "\n",
       "            <div>\n",
       "                <p><b>SparkSession - in-memory</b></p>\n",
       "                \n",
       "        <div>\n",
       "            <p><b>SparkContext</b></p>\n",
       "\n",
       "            <p><a href=\"http://172.21.225.129:4040\">Spark UI</a></p>\n",
       "\n",
       "            <dl>\n",
       "              <dt>Version</dt>\n",
       "                <dd><code>v3.5.0</code></dd>\n",
       "              <dt>Master</dt>\n",
       "                <dd><code>local</code></dd>\n",
       "              <dt>AppName</dt>\n",
       "                <dd><code>Bigmart Sales Prediction</code></dd>\n",
       "            </dl>\n",
       "        </div>\n",
       "        \n",
       "            </div>\n",
       "        "
      ],
      "text/plain": [
       "<pyspark.sql.session.SparkSession at 0x7fc87401b5e0>"
      ]
     },
     "execution_count": 1,
     "metadata": {},
     "output_type": "execute_result"
    }
   ],
   "source": [
    "import findspark\n",
    "findspark.init()\n",
    "\n",
    "import pyspark\n",
    "from pyspark.sql import SparkSession\n",
    "\n",
    "scala_version = '2.12'\n",
    "spark_version = '3.5.0'\n",
    "packages = [\n",
    "    f'org.apache.spark:spark-sql-kafka-0-10_{scala_version}:{spark_version}',\n",
    "    'org.apache.kafka:kafka-clients:3.6.0'\n",
    "]\n",
    "spark = SparkSession.builder.master('local').appName('Bigmart Sales Prediction').config('spark.jars.packages', ','.join(packages)).getOrCreate()\n",
    "spark"
   ]
  },
  {
   "cell_type": "code",
   "execution_count": 2,
   "metadata": {},
   "outputs": [],
   "source": [
    "from kafka import KafkaConsumer\n",
    "\n",
    "kafka_topic_name = 'turtorial15'\n",
    "kafka_bootstrap_servers = 'localhost:9092'\n",
    "\n",
    "consumer = KafkaConsumer(kafka_topic_name, bootstrap_servers=kafka_bootstrap_servers)"
   ]
  },
  {
   "cell_type": "code",
   "execution_count": 3,
   "metadata": {},
   "outputs": [
    {
     "name": "stderr",
     "output_type": "stream",
     "text": [
      "/usr/lib/python3/dist-packages/scipy/__init__.py:146: UserWarning: A NumPy version >=1.17.3 and <1.25.0 is required for this version of SciPy (detected version 1.26.2\n",
      "  warnings.warn(f\"A NumPy version >={np_minversion} and <{np_maxversion}\"\n",
      "                                                                                \r"
     ]
    }
   ],
   "source": [
    "from pyspark.ml.regression import LinearRegressionModel\n",
    "\n",
    "# Load the trained model\n",
    "model_path = './linear_regression_model'\n",
    "model = LinearRegressionModel.load(model_path)"
   ]
  },
  {
   "cell_type": "code",
   "execution_count": 4,
   "metadata": {},
   "outputs": [],
   "source": [
    "from pyspark.sql.types import StructType, StructField, StringType, DoubleType, IntegerType, TimestampType\n",
    "\n",
    "# Define the schema based on the sample record\n",
    "schema = StructType([\n",
    "    StructField('Item_Identifier', StringType(), True),\n",
    "    StructField('Item_Weight', DoubleType(), True),\n",
    "    StructField('Item_Fat_Content', StringType(), True),\n",
    "    StructField('Item_Visibility', DoubleType(), True),\n",
    "    StructField('Item_Type', StringType(), True),\n",
    "    StructField('Item_MRP', DoubleType(), True),\n",
    "    StructField('Outlet_Identifier', StringType(), True),\n",
    "    StructField('Outlet_Establishment_Year', IntegerType(), True),\n",
    "    StructField('Outlet_Size', StringType(), True),\n",
    "    StructField('Outlet_Location_Type', StringType(), True),\n",
    "    StructField('Outlet_Type', StringType(), True),\n",
    "    StructField('time_interval', StringType(), True)\n",
    "])"
   ]
  },
  {
   "cell_type": "code",
   "execution_count": 5,
   "metadata": {},
   "outputs": [],
   "source": [
    "from pyspark.ml.feature import VectorAssembler, StandardScaler\n",
    "\n",
    "train_all = spark.read.option('delimiter', ',').option('header', 'true').csv('./Train.csv', schema = schema)\n",
    "train_all = train_all.na.fill(0)\n",
    "\n",
    "featureCols = [ 'Item_Weight', 'Item_Visibility', 'Item_MRP']\n",
    "assembler_all = VectorAssembler(inputCols=featureCols, outputCol='features') \n",
    "assembled_df_all = assembler_all.transform(train_all)"
   ]
  },
  {
   "cell_type": "code",
   "execution_count": 6,
   "metadata": {},
   "outputs": [
    {
     "name": "stderr",
     "output_type": "stream",
     "text": [
      "24/01/01 22:17:16 WARN InstanceBuilder: Failed to load implementation from:dev.ludovic.netlib.blas.VectorBLAS\n",
      "                                                                                \r"
     ]
    },
    {
     "name": "stdout",
     "output_type": "stream",
     "text": [
      "+---------------+----------------------+\n",
      "|Item_Identifier|Item_Outlet_Sales_pred|\n",
      "+---------------+----------------------+\n",
      "|          FDO16|     989.5376430330754|\n",
      "+---------------+----------------------+\n",
      "\n"
     ]
    },
    {
     "name": "stderr",
     "output_type": "stream",
     "text": [
      "                                                                                \r"
     ]
    },
    {
     "name": "stdout",
     "output_type": "stream",
     "text": [
      "+---------------+----------------------+\n",
      "|Item_Identifier|Item_Outlet_Sales_pred|\n",
      "+---------------+----------------------+\n",
      "|          FDU07|    1476.1022366830637|\n",
      "+---------------+----------------------+\n",
      "\n"
     ]
    },
    {
     "name": "stderr",
     "output_type": "stream",
     "text": [
      "                                                                                \r"
     ]
    },
    {
     "name": "stdout",
     "output_type": "stream",
     "text": [
      "+---------------+----------------------+\n",
      "|Item_Identifier|Item_Outlet_Sales_pred|\n",
      "+---------------+----------------------+\n",
      "|          NCB07|    1677.8731056157994|\n",
      "+---------------+----------------------+\n",
      "\n",
      "+---------------+----------------------+\n",
      "|Item_Identifier|Item_Outlet_Sales_pred|\n",
      "+---------------+----------------------+\n",
      "|          FDU48|     1163.685294304299|\n",
      "+---------------+----------------------+\n",
      "\n",
      "+---------------+----------------------+\n",
      "|Item_Identifier|Item_Outlet_Sales_pred|\n",
      "+---------------+----------------------+\n",
      "|          NCM43|    1595.0339588677668|\n",
      "+---------------+----------------------+\n",
      "\n",
      "+---------------+----------------------+\n",
      "|Item_Identifier|Item_Outlet_Sales_pred|\n",
      "+---------------+----------------------+\n",
      "|          FDR31|    1317.9124892633904|\n",
      "+---------------+----------------------+\n",
      "\n",
      "+---------------+----------------------+\n",
      "|Item_Identifier|Item_Outlet_Sales_pred|\n",
      "+---------------+----------------------+\n",
      "|          DRK49|    418.46967764010105|\n",
      "+---------------+----------------------+\n",
      "\n",
      "+---------------+----------------------+\n",
      "|Item_Identifier|Item_Outlet_Sales_pred|\n",
      "+---------------+----------------------+\n",
      "|          NCI30|     2076.365013599908|\n",
      "+---------------+----------------------+\n",
      "\n",
      "+---------------+----------------------+\n",
      "|Item_Identifier|Item_Outlet_Sales_pred|\n",
      "+---------------+----------------------+\n",
      "|          DRD60|    1686.6573064943254|\n",
      "+---------------+----------------------+\n",
      "\n",
      "+---------------+----------------------+\n",
      "|Item_Identifier|Item_Outlet_Sales_pred|\n",
      "+---------------+----------------------+\n",
      "|          NCG19|    1866.4012263411385|\n",
      "+---------------+----------------------+\n",
      "\n",
      "+---------------+----------------------+\n",
      "|Item_Identifier|Item_Outlet_Sales_pred|\n",
      "+---------------+----------------------+\n",
      "|          FDH12|     922.2531935362907|\n",
      "+---------------+----------------------+\n",
      "\n",
      "+---------------+----------------------+\n",
      "|Item_Identifier|Item_Outlet_Sales_pred|\n",
      "+---------------+----------------------+\n",
      "|          FDM32|     865.6387603565074|\n",
      "+---------------+----------------------+\n",
      "\n"
     ]
    }
   ],
   "source": [
    "from pyspark.sql.functions import isnan, when, count, col\n",
    "from datetime import datetime\n",
    "from pyspark.ml.feature import VectorAssembler, StandardScaler\n",
    "from pyspark.sql import Row\n",
    "import json\n",
    "\n",
    "# Infinite loop to continuously consume messages\n",
    "for message in consumer:\n",
    "    try:\n",
    "        # Assuming your Kafka message is in the variable 'message'\n",
    "        message_value = message.value.decode('utf-8')  # Decode bytes to string\n",
    "        data_dict = json.loads(message_value)  # Convert JSON string to dictionary\n",
    "\n",
    "        # Convert the 'time_interval' field to a timestamp\n",
    "        data_dict['time_interval'] = datetime.strptime(data_dict['time_interval'], '%Y-%m-%d %H:%M:%S')\n",
    "\n",
    "        # Create a Row object from the dictionary\n",
    "        row = Row(**data_dict)\n",
    "\n",
    "        # Create a DataFrame from the Row with the specified schema\n",
    "        df = spark.createDataFrame([row], schema=schema)\n",
    "        df = df.na.fill(0)\n",
    "\n",
    "        featureCols = [ 'Item_Weight', 'Item_Visibility', 'Item_MRP']\n",
    "        # put features into a feature vector column\n",
    "        assembler = VectorAssembler(inputCols=featureCols, outputCol='features')\n",
    "        assembled_df = assembler.transform(df)\n",
    "\n",
    "        # Initialize the `standardScaler`\n",
    "        standardScaler = StandardScaler(inputCol='features', outputCol='features_scaled')\n",
    "\n",
    "        # Fit the DataFrame to the scaler\n",
    "        scaled_df = standardScaler.fit(assembled_df_all).transform(assembled_df)\n",
    "\n",
    "        # Make predictions using the model\n",
    "        predictions = model.transform(scaled_df)\n",
    "        predandlabels = predictions.select('Item_Identifier', 'Item_Outlet_Sales_pred')\n",
    "\n",
    "        # Print the resulting DataFrame\n",
    "        predandlabels.show()\n",
    "\n",
    "    except Exception as e:\n",
    "        print(f'Error processing message: {str(e)}')"
   ]
  }
 ],
 "metadata": {
  "kernelspec": {
   "display_name": "Python 3",
   "language": "python",
   "name": "python3"
  },
  "language_info": {
   "codemirror_mode": {
    "name": "ipython",
    "version": 3
   },
   "file_extension": ".py",
   "mimetype": "text/x-python",
   "name": "python",
   "nbconvert_exporter": "python",
   "pygments_lexer": "ipython3",
   "version": "3.10.12"
  }
 },
 "nbformat": 4,
 "nbformat_minor": 2
}
