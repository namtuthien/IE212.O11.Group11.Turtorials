{
 "cells": [
  {
   "cell_type": "code",
   "execution_count": 1,
   "metadata": {},
   "outputs": [],
   "source": [
    "import pandas as pd\n",
    "from kafka import KafkaProducer\n",
    "import time\n",
    "from datetime import datetime\n",
    "\n",
    "def read_csv_and_stream_to_kafka(csv_file, kafka_topic, kafka_bootstrap_servers):\n",
    "    # Create Kafka producer\n",
    "    producer = KafkaProducer(bootstrap_servers=kafka_bootstrap_servers)\n",
    "\n",
    "    # Read CSV file\n",
    "    df = pd.read_csv(csv_file)\n",
    "\n",
    "    # Add a new column for time interval\n",
    "    df['time_interval'] = 0\n",
    "\n",
    "    # Stream data to Kafka\n",
    "    for index, row in df.iterrows():\n",
    "        # Add current timestamp to the 'time_interval' column\n",
    "        df.at[index, 'time_interval'] = datetime.now().strftime('%Y-%m-%d %H:%M:%S')\n",
    "\n",
    "        # Convert the row to JSON\n",
    "        message = df.iloc[index].to_json()\n",
    "        producer.send(kafka_topic, value=message.encode('utf-8'))\n",
    "\n",
    "        time.sleep(0.1)\n",
    "\n",
    "    producer.close()"
   ]
  },
  {
   "cell_type": "code",
   "execution_count": 2,
   "metadata": {},
   "outputs": [
    {
     "name": "stderr",
     "output_type": "stream",
     "text": [
      "/tmp/ipykernel_50158/3232833787.py:19: FutureWarning: Setting an item of incompatible dtype is deprecated and will raise in a future error of pandas. Value '2024-01-01 22:16:38' has dtype incompatible with int64, please explicitly cast to a compatible dtype first.\n",
      "  df.at[index, 'time_interval'] = datetime.now().strftime('%Y-%m-%d %H:%M:%S')\n"
     ]
    }
   ],
   "source": [
    "# Replace with your file path, Kafka topic, and bootstrap servers\n",
    "csv_file_path = './Test.csv'\n",
    "kafka_topic_name = 'turtorial15'\n",
    "kafka_bootstrap_servers = 'localhost:9092'\n",
    "\n",
    "read_csv_and_stream_to_kafka(csv_file_path, kafka_topic_name, kafka_bootstrap_servers)"
   ]
  }
 ],
 "metadata": {
  "kernelspec": {
   "display_name": "Python 3",
   "language": "python",
   "name": "python3"
  },
  "language_info": {
   "codemirror_mode": {
    "name": "ipython",
    "version": 3
   },
   "file_extension": ".py",
   "mimetype": "text/x-python",
   "name": "python",
   "nbconvert_exporter": "python",
   "pygments_lexer": "ipython3",
   "version": "3.10.12"
  }
 },
 "nbformat": 4,
 "nbformat_minor": 2
}
